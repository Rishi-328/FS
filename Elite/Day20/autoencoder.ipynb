{
 "cells": [
  {
   "cell_type": "code",
   "execution_count": null,
   "metadata": {
    "vscode": {
     "languageId": "plaintext"
    }
   },
   "outputs": [],
   "source": [
    "import torch\n",
    "import torch.nn as nn\n",
    "import torch.optim as optim\n",
    "import matplotlib.pyplot as plt"
   ]
  },
  {
   "cell_type": "markdown",
   "metadata": {},
   "source": [
    "the ANSI diagram for the multi-layer autoencoder\n",
    "    Input Layer (28x28 pixels)  \n",
    "          |\n",
    "      [Flatten Layer] (784)\n",
    "          |\n",
    "      [Dense Layer 512] - Linear, ReLU\n",
    "          |\n",
    "      [Dense Layer 256] - Linear, ReLU\n",
    "          |\n",
    "      [Dense Layer 128] - Linear, ReLU\n",
    "          |\n",
    "      [Dense Layer 64]  <-- Latent Representation (Bottleneck)\n",
    "          |\n",
    "      [Dense Layer 128] - Linear, ReLU\n",
    "          |\n",
    "      [Dense Layer 256] - Linear, ReLU\n",
    "          |\n",
    "      [Dense Layer 512] - Linear, ReLU\n",
    "          |\n",
    "      [Dense Layer 784] - Sigmoid (Reconstructs 28x28 image)\n",
    "          |\n",
    "      [Unflatten Layer] (Reshape to 28x28)\n",
    "          |\n",
    "      Output (Reconstructed Image)\n"
   ]
  },
  {
   "cell_type": "code",
   "execution_count": null,
   "metadata": {
    "vscode": {
     "languageId": "plaintext"
    }
   },
   "outputs": [],
   "source": [
    "### Implement the Autoencoder ###\n",
    "\n",
    "# Define Autoencoder class\n",
    "class Autoencoder(nn.Module):\n",
    "    def __init__(self):\n",
    "        super(Autoencoder, self).__init__()\n",
    "        # Encoder\n",
    "        self.encoder = nn.Sequential(\n",
    "            # YOUR CODE HERE\n",
    "            nn.Flatten(),\n",
    "            nn.Linear(784,512),\n",
    "            nn.ReLU(),\n",
    "            nn.Linear(512,256),\n",
    "            nn.ReLU(),\n",
    "            nn.Linear(256,128),\n",
    "            nn.ReLU(),\n",
    "            nn.Linear(128,64),\n",
    "            nn.ReLU()\n",
    "        )\n",
    "        \n",
    "        # Decoder\n",
    "        self.decoder = nn.Sequential(\n",
    "            # YOUR CODE HERE\n",
    "            nn.Linear(64,128),\n",
    "            nn.ReLU(),\n",
    "            nn.Linear(128,256),\n",
    "            nn.ReLU(),\n",
    "            nn.Linear(256,512),\n",
    "            nn.ReLU(),\n",
    "            nn.Linear(512,784),\n",
    "            nn.ReLU(),\n",
    "            nn.Sigmoid(),\n",
    "            nn.Unflatten(dim=1,unflattened_size=(28,28))\n",
    "        )\n",
    "    \n",
    "    def forward(self, x):\n",
    "        encoded = self.encoder(x)\n",
    "        decoded = self.decoder(encoded)\n",
    "        return decoded\n"
   ]
  },
  {
   "cell_type": "code",
   "execution_count": null,
   "metadata": {
    "vscode": {
     "languageId": "plaintext"
    }
   },
   "outputs": [],
   "source": [
    "# Define loss function and optimizer\n",
    "student_model = Autoencoder()\n",
    "# initialize the 'criterion' to apply the loss and 'optimizer' for the optimzation.\n",
    "# YOUR CODE HERE\n",
    "\n",
    "criterion = nn.MSELoss()\n",
    "optimizer = optim.Adam(student_model.parameters(),lr=0.001)"
   ]
  },
  {
   "cell_type": "code",
   "execution_count": null,
   "metadata": {
    "vscode": {
     "languageId": "plaintext"
    }
   },
   "outputs": [],
   "source": [
    "# Autoencoder Training Function\n",
    "def check_autoencoder(student_model, optimizer, criterion):\n",
    "    print(\"Running Autoencoder Training and Evaluation...\")\n",
    "    \n",
    "    #device = torch.device(\"cuda\" if torch.cuda.is_available() else \"cpu\")\n",
    "    #student_model.to(device)\n",
    "    student_model.eval()  # Set to evaluation mode\n",
    "    device = next(student_model.parameters()).device  # Get model device\n",
    "    \n",
    "    dummy_data = torch.randn(16, 1, 28, 28).to(device)  # Small batch size to reduce memory\n",
    "    for epoch in range(2):\n",
    "        optimizer.zero_grad()\n",
    "        dummy_data_flat = dummy_data.view(dummy_data.size(0), -1)  # Flatten input\n",
    "        outputs = student_model(dummy_data_flat)\n",
    "        loss = criterion(outputs.view(outputs.size(0), -1), dummy_data_flat)  # Flatten outputs\n",
    "        loss.backward()\n",
    "        optimizer.step()\n",
    "        print(f\"Epoch [{epoch+1}/2], Loss: {loss.item():.4f}\")\n",
    "    \n",
    "    return loss.item(), outputs\n",
    "check_autoencoder(student_model, optimizer, criterion)"
   ]
  },
  {
   "cell_type": "markdown",
   "metadata": {},
   "source": [
    "Running Autoencoder Training and Evaluation...\n",
    "Epoch [1/2], Loss: 1.2474\n",
    "Epoch [2/2], Loss: 1.2460\n",
    "[NVSHARE][INFO]: Successfully initialized nvshare GPU\n",
    "[NVSHARE][INFO]: Client ID = cab405378edcdd88\n",
    "(1.246016263961792,\n",
    " tensor([[[0.5043, 0.5000, 0.5000,  ..., 0.5000, 0.5045, 0.5000],\n",
    "          [0.5028, 0.5000, 0.5056,  ..., 0.5008, 0.5050, 0.5068],\n",
    "          [0.5000, 0.5053, 0.5052,  ..., 0.5000, 0.5000, 0.5000],\n",
    "          ...,\n",
    "          [0.5000, 0.5008, 0.5000,  ..., 0.5050, 0.5039, 0.5000],\n",
    "          [0.5001, 0.5000, 0.5031,  ..., 0.5000, 0.5050, 0.5016],\n",
    "          [0.5000, 0.5000, 0.5000,  ..., 0.5038, 0.5014, 0.5000]],\n",
    " \n",
    "         [[0.5045, 0.5000, 0.5000,  ..., 0.5000, 0.5044, 0.5000],\n",
    "          [0.5027, 0.5000, 0.5058,  ..., 0.5006, 0.5049, 0.5064],\n",
    "          [0.5000, 0.5057, 0.5053,  ..., 0.5000, 0.5000, 0.5004],\n",
    "          ...,\n",
    "          [0.5000, 0.5015, 0.5000,  ..., 0.5052, 0.5040, 0.5000],\n",
    "          [0.5000, 0.5000, 0.5035,  ..., 0.5000, 0.5048, 0.5013],\n",
    "          [0.5000, 0.5000, 0.5000,  ..., 0.5042, 0.5017, 0.5000]],\n",
    " \n",
    "         [[0.5044, 0.5000, 0.5000,  ..., 0.5000, 0.5042, 0.5000],\n",
    "          [0.5027, 0.5000, 0.5060,  ..., 0.5003, 0.5049, 0.5066],\n",
    "          [0.5000, 0.5053, 0.5054,  ..., 0.5000, 0.5000, 0.5001],\n",
    "          ...,\n",
    "          [0.5000, 0.5009, 0.5000,  ..., 0.5051, 0.5039, 0.5000],\n",
    "          [0.5000, 0.5000, 0.5034,  ..., 0.5000, 0.5049, 0.5014],\n",
    "          [0.5000, 0.5000, 0.5000,  ..., 0.5042, 0.5015, 0.5000]],\n",
    " \n",
    "         ...,\n",
    " \n",
    "         [[0.5043, 0.5000, 0.5000,  ..., 0.5000, 0.5042, 0.5000],\n",
    "          [0.5029, 0.5000, 0.5061,  ..., 0.5021, 0.5057, 0.5070],\n",
    "          [0.5000, 0.5056, 0.5059,  ..., 0.5000, 0.5000, 0.5005],\n",
    "          ...,\n",
    "          [0.5000, 0.5015, 0.5000,  ..., 0.5055, 0.5031, 0.5000],\n",
    "          [0.5003, 0.5000, 0.5027,  ..., 0.5000, 0.5045, 0.5026],\n",
    "          [0.5000, 0.5000, 0.5000,  ..., 0.5040, 0.5015, 0.5000]],\n",
    " \n",
    "         [[0.5039, 0.5000, 0.5000,  ..., 0.5000, 0.5047, 0.5000],\n",
    "          [0.5023, 0.5000, 0.5055,  ..., 0.5005, 0.5045, 0.5066],\n",
    "          [0.5000, 0.5054, 0.5049,  ..., 0.5000, 0.5000, 0.5000],\n",
    "          ...,\n",
    "          [0.5000, 0.5012, 0.5000,  ..., 0.5050, 0.5038, 0.5000],\n",
    "          [0.5000, 0.5000, 0.5039,  ..., 0.5000, 0.5051, 0.5010],\n",
    "          [0.5000, 0.5000, 0.5000,  ..., 0.5040, 0.5020, 0.5000]],\n",
    " \n",
    "         [[0.5045, 0.5002, 0.5000,  ..., 0.5000, 0.5048, 0.5000],\n",
    "          [0.5031, 0.5000, 0.5060,  ..., 0.5008, 0.5055, 0.5070],\n",
    "          [0.5000, 0.5055, 0.5054,  ..., 0.5000, 0.5000, 0.5004],\n",
    "          ...,\n",
    "          [0.5000, 0.5014, 0.5000,  ..., 0.5056, 0.5037, 0.5000],\n",
    "          [0.5002, 0.5000, 0.5028,  ..., 0.5000, 0.5047, 0.5017],\n",
    "          [0.5000, 0.5000, 0.5000,  ..., 0.5042, 0.5016, 0.5000]]],\n",
    "        grad_fn=<ViewBackward0>))"
   ]
  }
 ],
 "metadata": {
  "language_info": {
   "name": "python"
  }
 },
 "nbformat": 4,
 "nbformat_minor": 2
}
